{
 "cells": [
  {
   "cell_type": "code",
   "execution_count": 1,
   "id": "339475f7-5f3f-4eb9-bd8e-d8c0b23035b3",
   "metadata": {},
   "outputs": [],
   "source": [
    "import pandas as pd \n",
    "import numpy as np"
   ]
  },
  {
   "cell_type": "code",
   "execution_count": 4,
   "id": "4c737f08-f21e-4a40-90a3-34525022cf6a",
   "metadata": {},
   "outputs": [],
   "source": [
    "list_ = [ '1' , '2' , '3' , '4' , '5' ]\n",
    "array_list = np.array(object = list_)"
   ]
  },
  {
   "cell_type": "code",
   "execution_count": null,
   "id": "8b0e4441-3d36-4dba-a058-90f272dcee9d",
   "metadata": {},
   "outputs": [],
   "source": []
  },
  {
   "cell_type": "markdown",
   "id": "35b1844d-a7ac-48b1-ac69-a3aa35b32ce6",
   "metadata": {},
   "source": [
    "## Q1. Is there any difference in the data type of variables list_ and array_list? If there is then write a code to print the data types of both the variables.\n",
    "\n",
    "* Yes, there is difference in data type of both valiables."
   ]
  },
  {
   "cell_type": "code",
   "execution_count": 7,
   "id": "f4d9474d-f33b-456c-90b6-1d84653592dd",
   "metadata": {},
   "outputs": [
    {
     "data": {
      "text/plain": [
       "list"
      ]
     },
     "execution_count": 7,
     "metadata": {},
     "output_type": "execute_result"
    }
   ],
   "source": [
    "type(list_)"
   ]
  },
  {
   "cell_type": "code",
   "execution_count": 6,
   "id": "6bc4eaea-da1d-4ed1-b0a0-7ade70a51dfb",
   "metadata": {},
   "outputs": [
    {
     "data": {
      "text/plain": [
       "numpy.ndarray"
      ]
     },
     "execution_count": 6,
     "metadata": {},
     "output_type": "execute_result"
    }
   ],
   "source": [
    "type(array_list)"
   ]
  },
  {
   "cell_type": "code",
   "execution_count": null,
   "id": "5e7ab3e0-1fa1-4add-816d-26738eeb4147",
   "metadata": {},
   "outputs": [],
   "source": []
  },
  {
   "cell_type": "markdown",
   "id": "bda6f9b7-f194-4fa2-8f2b-4c97d8f4be27",
   "metadata": {},
   "source": [
    "## Q2. Write a code to print the data type of each and every element of both the variables list_ and arra_list."
   ]
  },
  {
   "cell_type": "code",
   "execution_count": 6,
   "id": "b7fcacea-8efb-4ad7-b535-b5195b1d6dbe",
   "metadata": {},
   "outputs": [
    {
     "name": "stdout",
     "output_type": "stream",
     "text": [
      "1 <U1\n",
      "2 <U1\n",
      "3 <U1\n",
      "4 <U1\n",
      "5 <U1\n"
     ]
    }
   ],
   "source": [
    "for x in np.nditer(array_list):\n",
    "    print(x, x.dtype)"
   ]
  },
  {
   "cell_type": "code",
   "execution_count": 9,
   "id": "c4f41527-c928-4aa6-8ac9-670affb6304b",
   "metadata": {},
   "outputs": [
    {
     "name": "stdout",
     "output_type": "stream",
     "text": [
      "1 <class 'str'>\n",
      "2 <class 'str'>\n",
      "3 <class 'str'>\n",
      "4 <class 'str'>\n",
      "5 <class 'str'>\n"
     ]
    }
   ],
   "source": [
    "for y in list_:\n",
    "    print(y, type(y))"
   ]
  },
  {
   "cell_type": "code",
   "execution_count": null,
   "id": "44c64422-f2ab-4eec-b3b4-f542f7279f8f",
   "metadata": {},
   "outputs": [],
   "source": []
  },
  {
   "cell_type": "markdown",
   "id": "bf63cfc9-dcdb-440a-a315-c60afd5a682f",
   "metadata": {},
   "source": [
    "## Q3. Considering the following changes in the variable, array_list:\n",
    "## array_list = np.array(object = list_, dtype = int)\n",
    "## Will there be any difference in the data type of the elements present in both the variables, list_ andarra_list? If so then print the data types of each and every element present in both the variables, list_ and arra_list."
   ]
  },
  {
   "cell_type": "code",
   "execution_count": 5,
   "id": "a9603de3-3c6a-4722-8c36-33f8f5b9075b",
   "metadata": {},
   "outputs": [],
   "source": [
    "array_list = np.array(object = list_, dtype = int)"
   ]
  },
  {
   "cell_type": "code",
   "execution_count": 6,
   "id": "4ab1982a-f766-462d-9b09-7ba0fbb2e324",
   "metadata": {},
   "outputs": [
    {
     "name": "stdout",
     "output_type": "stream",
     "text": [
      "1 int64\n",
      "2 int64\n",
      "3 int64\n",
      "4 int64\n",
      "5 int64\n"
     ]
    }
   ],
   "source": [
    "for x in np.nditer(array_list):\n",
    "    print(x, x.dtype)"
   ]
  },
  {
   "cell_type": "code",
   "execution_count": 7,
   "id": "c8433108-6750-4560-95ae-57d1d786b037",
   "metadata": {},
   "outputs": [
    {
     "name": "stdout",
     "output_type": "stream",
     "text": [
      "1 <class 'str'>\n",
      "2 <class 'str'>\n",
      "3 <class 'str'>\n",
      "4 <class 'str'>\n",
      "5 <class 'str'>\n"
     ]
    }
   ],
   "source": [
    "for y in list_:\n",
    "    print(y, type(y))"
   ]
  },
  {
   "cell_type": "markdown",
   "id": "c1166db7-e30f-4d97-9c5e-e592b9715c76",
   "metadata": {},
   "source": [
    "* As we observe that the datype of list_ is string and data type of array_list is int."
   ]
  },
  {
   "cell_type": "code",
   "execution_count": null,
   "id": "b594eaff-67b4-49fc-8ff8-5ee93c0dcf43",
   "metadata": {},
   "outputs": [],
   "source": []
  },
  {
   "cell_type": "code",
   "execution_count": 8,
   "id": "5e27f4eb-9f16-42a5-846e-2b0fc8767de4",
   "metadata": {},
   "outputs": [],
   "source": [
    "import numpy as np\n",
    "num_list = [ [ 1 , 2 , 3 ] , [ 4 , 5 , 6 ] ]\n",
    "num_array = np.array(object = num_list)"
   ]
  },
  {
   "cell_type": "markdown",
   "id": "8e4d80a5-29a8-4f65-8ed7-f62c56724017",
   "metadata": {},
   "source": [
    "## Q4. Write a code to find the following characteristics of variable, num_array:\n",
    "## (i) shape\n",
    "## (ii) size"
   ]
  },
  {
   "cell_type": "code",
   "execution_count": 14,
   "id": "23953e32-ebee-40f1-bd5f-9e14d4c1a2cc",
   "metadata": {},
   "outputs": [
    {
     "data": {
      "text/plain": [
       "(2, 3)"
      ]
     },
     "execution_count": 14,
     "metadata": {},
     "output_type": "execute_result"
    }
   ],
   "source": [
    "shape = np.shape(num_array)\n",
    "shape"
   ]
  },
  {
   "cell_type": "code",
   "execution_count": 12,
   "id": "887daf78-7b15-4cfe-82dd-0607546a1461",
   "metadata": {},
   "outputs": [
    {
     "data": {
      "text/plain": [
       "6"
      ]
     },
     "execution_count": 12,
     "metadata": {},
     "output_type": "execute_result"
    }
   ],
   "source": [
    "size = np.size(num_array)\n",
    "size"
   ]
  },
  {
   "cell_type": "code",
   "execution_count": null,
   "id": "89ca54b5-f645-447f-a119-596b8d35c88e",
   "metadata": {},
   "outputs": [],
   "source": []
  },
  {
   "cell_type": "markdown",
   "id": "9528485b-95fe-4c55-ab58-c95b73afd76e",
   "metadata": {},
   "source": [
    "## Q5. Write a code to create numpy array of 3*3 matrix containing zeros only, using a numpy array creation function."
   ]
  },
  {
   "cell_type": "code",
   "execution_count": 18,
   "id": "8414e0d9-25fe-46cf-a131-09083ef00ab2",
   "metadata": {},
   "outputs": [
    {
     "data": {
      "text/plain": [
       "array([[0., 0., 0.],\n",
       "       [0., 0., 0.],\n",
       "       [0., 0., 0.]])"
      ]
     },
     "execution_count": 18,
     "metadata": {},
     "output_type": "execute_result"
    }
   ],
   "source": [
    "array = np.zeros([3,3])\n",
    "array"
   ]
  },
  {
   "cell_type": "code",
   "execution_count": 26,
   "id": "5bb6891f-3a0f-4ffd-bfe9-0139b0a4689c",
   "metadata": {},
   "outputs": [
    {
     "name": "stdout",
     "output_type": "stream",
     "text": [
      "(3, 3)\n",
      "9\n"
     ]
    }
   ],
   "source": [
    "a =np.shape(array)\n",
    "b =np.size(array)\n",
    "print(a)\n",
    "print(b)\n"
   ]
  },
  {
   "cell_type": "code",
   "execution_count": null,
   "id": "c7809cf9-fc10-483e-ac22-a4f7c31cac07",
   "metadata": {},
   "outputs": [],
   "source": []
  },
  {
   "cell_type": "markdown",
   "id": "5502249f-0de2-4b51-896a-0aa892d239a6",
   "metadata": {},
   "source": [
    "## Q6. Create an identity matrix of shape (5,5) using numpy functions?"
   ]
  },
  {
   "cell_type": "code",
   "execution_count": 27,
   "id": "b93a39ba-45b4-497b-9b38-0a569b837d5d",
   "metadata": {},
   "outputs": [
    {
     "data": {
      "text/plain": [
       "array([[1., 0., 0., 0., 0.],\n",
       "       [0., 1., 0., 0., 0.],\n",
       "       [0., 0., 1., 0., 0.],\n",
       "       [0., 0., 0., 1., 0.],\n",
       "       [0., 0., 0., 0., 1.]])"
      ]
     },
     "execution_count": 27,
     "metadata": {},
     "output_type": "execute_result"
    }
   ],
   "source": [
    "array = np.eye(5)\n",
    "array"
   ]
  },
  {
   "cell_type": "code",
   "execution_count": null,
   "id": "cb8c9237-2a2b-4140-aed9-b37366170231",
   "metadata": {},
   "outputs": [],
   "source": []
  },
  {
   "cell_type": "code",
   "execution_count": null,
   "id": "ddf7925c-3f04-4cd0-86a4-88a9a75b4422",
   "metadata": {},
   "outputs": [],
   "source": []
  },
  {
   "cell_type": "code",
   "execution_count": null,
   "id": "013d33d8-67f2-48c1-b56d-fa6a37187ab5",
   "metadata": {},
   "outputs": [],
   "source": []
  },
  {
   "cell_type": "code",
   "execution_count": null,
   "id": "b7773e58-3e7a-49cb-9fa7-a1cdcc5f708f",
   "metadata": {},
   "outputs": [],
   "source": []
  }
 ],
 "metadata": {
  "kernelspec": {
   "display_name": "Python 3 (ipykernel)",
   "language": "python",
   "name": "python3"
  },
  "language_info": {
   "codemirror_mode": {
    "name": "ipython",
    "version": 3
   },
   "file_extension": ".py",
   "mimetype": "text/x-python",
   "name": "python",
   "nbconvert_exporter": "python",
   "pygments_lexer": "ipython3",
   "version": "3.12.1"
  }
 },
 "nbformat": 4,
 "nbformat_minor": 5
}
