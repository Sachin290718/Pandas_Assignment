{
 "cells": [
  {
   "cell_type": "code",
   "execution_count": 1,
   "id": "107e76b3-2e92-4f40-bde8-b5537cc05b00",
   "metadata": {},
   "outputs": [],
   "source": [
    "import pandas as pd"
   ]
  },
  {
   "cell_type": "markdown",
   "id": "43040f05-5fe1-4951-9d21-84f9b10cd963",
   "metadata": {},
   "source": [
    "## Q1. Write a code to print the data present in the second row of the dataframe, df."
   ]
  },
  {
   "cell_type": "code",
   "execution_count": 37,
   "id": "79f965e6-ee2f-4402-99b3-3d53e69a666b",
   "metadata": {},
   "outputs": [],
   "source": [
    "course_name = ['Data Science', 'Machine Learning', 'Big Data', 'Data Engineer']\n",
    "duration = [2,3,6,4]\n",
    "df = pd.DataFrame({'Course_Name' : course_name,\n",
    "                   'Duration' : duration})\n",
    "A = df[1:2]\n",
    "B = df.loc[1:1]\n",
    "C = df.iloc[1:2]"
   ]
  },
  {
   "cell_type": "code",
   "execution_count": 38,
   "id": "ff774571-bb78-4494-98b2-c34f442230ea",
   "metadata": {},
   "outputs": [
    {
     "data": {
      "text/html": [
       "<div>\n",
       "<style scoped>\n",
       "    .dataframe tbody tr th:only-of-type {\n",
       "        vertical-align: middle;\n",
       "    }\n",
       "\n",
       "    .dataframe tbody tr th {\n",
       "        vertical-align: top;\n",
       "    }\n",
       "\n",
       "    .dataframe thead th {\n",
       "        text-align: right;\n",
       "    }\n",
       "</style>\n",
       "<table border=\"1\" class=\"dataframe\">\n",
       "  <thead>\n",
       "    <tr style=\"text-align: right;\">\n",
       "      <th></th>\n",
       "      <th>Course_Name</th>\n",
       "      <th>Duration</th>\n",
       "    </tr>\n",
       "  </thead>\n",
       "  <tbody>\n",
       "    <tr>\n",
       "      <th>1</th>\n",
       "      <td>Machine Learning</td>\n",
       "      <td>3</td>\n",
       "    </tr>\n",
       "  </tbody>\n",
       "</table>\n",
       "</div>"
      ],
      "text/plain": [
       "        Course_Name  Duration\n",
       "1  Machine Learning         3"
      ]
     },
     "execution_count": 38,
     "metadata": {},
     "output_type": "execute_result"
    }
   ],
   "source": [
    "A"
   ]
  },
  {
   "cell_type": "code",
   "execution_count": 39,
   "id": "3c289b0c-d11d-4895-95f6-9d953c3d72c2",
   "metadata": {},
   "outputs": [
    {
     "data": {
      "text/html": [
       "<div>\n",
       "<style scoped>\n",
       "    .dataframe tbody tr th:only-of-type {\n",
       "        vertical-align: middle;\n",
       "    }\n",
       "\n",
       "    .dataframe tbody tr th {\n",
       "        vertical-align: top;\n",
       "    }\n",
       "\n",
       "    .dataframe thead th {\n",
       "        text-align: right;\n",
       "    }\n",
       "</style>\n",
       "<table border=\"1\" class=\"dataframe\">\n",
       "  <thead>\n",
       "    <tr style=\"text-align: right;\">\n",
       "      <th></th>\n",
       "      <th>Course_Name</th>\n",
       "      <th>Duration</th>\n",
       "    </tr>\n",
       "  </thead>\n",
       "  <tbody>\n",
       "    <tr>\n",
       "      <th>1</th>\n",
       "      <td>Machine Learning</td>\n",
       "      <td>3</td>\n",
       "    </tr>\n",
       "  </tbody>\n",
       "</table>\n",
       "</div>"
      ],
      "text/plain": [
       "        Course_Name  Duration\n",
       "1  Machine Learning         3"
      ]
     },
     "execution_count": 39,
     "metadata": {},
     "output_type": "execute_result"
    }
   ],
   "source": [
    "B"
   ]
  },
  {
   "cell_type": "code",
   "execution_count": 27,
   "id": "1408477b-b56c-42e9-b052-3ca7aca96f83",
   "metadata": {},
   "outputs": [
    {
     "data": {
      "text/html": [
       "<div>\n",
       "<style scoped>\n",
       "    .dataframe tbody tr th:only-of-type {\n",
       "        vertical-align: middle;\n",
       "    }\n",
       "\n",
       "    .dataframe tbody tr th {\n",
       "        vertical-align: top;\n",
       "    }\n",
       "\n",
       "    .dataframe thead th {\n",
       "        text-align: right;\n",
       "    }\n",
       "</style>\n",
       "<table border=\"1\" class=\"dataframe\">\n",
       "  <thead>\n",
       "    <tr style=\"text-align: right;\">\n",
       "      <th></th>\n",
       "      <th>Course_Name</th>\n",
       "      <th>Duration</th>\n",
       "    </tr>\n",
       "  </thead>\n",
       "  <tbody>\n",
       "    <tr>\n",
       "      <th>1</th>\n",
       "      <td>Machine Learning</td>\n",
       "      <td>3</td>\n",
       "    </tr>\n",
       "  </tbody>\n",
       "</table>\n",
       "</div>"
      ],
      "text/plain": [
       "        Course_Name  Duration\n",
       "1  Machine Learning         3"
      ]
     },
     "execution_count": 27,
     "metadata": {},
     "output_type": "execute_result"
    }
   ],
   "source": [
    "C"
   ]
  },
  {
   "cell_type": "code",
   "execution_count": null,
   "id": "3cd3ae63-554f-4550-9d2a-aa49808686fb",
   "metadata": {},
   "outputs": [],
   "source": []
  },
  {
   "cell_type": "markdown",
   "id": "20b1831e-bf4c-416e-8109-4734983f88aa",
   "metadata": {},
   "source": [
    "## Q2. What is the difference between the functions loc and iloc in pandas.DataFrame?"
   ]
  },
  {
   "cell_type": "markdown",
   "id": "f4f15b8b-b849-4f2d-897d-9fbe7b0d63d4",
   "metadata": {},
   "source": [
    "* The functions loc and iloc in pandas are both used for selecting data from a DataFrame, but they differ in how they reference the data.\n",
    "* loc:\n",
    "This function selects data by labels (row and column names). It accepts strings or lists of strings corresponding to the desired labels. When using slicing with loc, both the start and stop values are included.\n",
    "* iloc:\n",
    "This function selects data by integer position. It accepts integers or lists of integers representing the row and column indices. Slicing with iloc follows the standard Python convention, where the start value is included, but the stop value is excluded.\n",
    "* If the labels of the DataFrame are integers, loc and iloc may behave similarly when selecting single elements. However, their behavior will still differ when using slicing or selecting multiple rows/columns."
   ]
  },
  {
   "cell_type": "code",
   "execution_count": null,
   "id": "b85cdcb1-6e18-4205-b55a-c1288cb81e25",
   "metadata": {},
   "outputs": [],
   "source": []
  },
  {
   "cell_type": "markdown",
   "id": "418d9f75-a9ec-422d-a4f8-0c0bdce17400",
   "metadata": {},
   "source": [
    "## Q3. Reindex the given dataframe using a variable, reindex = [3,0,1,2] and store it in the variable, new_df then find the output for both new_df.loc[2] and new_df.iloc[2]. Did you observe any difference in both the outputs? If so then explain it. Consider the below code to answer further questions:"
   ]
  },
  {
   "cell_type": "code",
   "execution_count": 1,
   "id": "0159642b-38b4-409f-836b-33f841091a48",
   "metadata": {},
   "outputs": [],
   "source": [
    "import pandas as pd\n",
    "import numpy as np\n",
    "columns = ['column_1', 'column_2', 'column_3', 'column_4', 'column_5', 'column_6']\n",
    "indices = [1,2,3,4,5,6]\n",
    "#Creating a dataframe:\n",
    "df1 = pd.DataFrame(np.random.rand(6,6), columns = columns, index = indices)"
   ]
  },
  {
   "cell_type": "code",
   "execution_count": 29,
   "id": "39a95fa1-4b2b-4a46-a4f9-77b30a4f9cf4",
   "metadata": {},
   "outputs": [
    {
     "data": {
      "text/html": [
       "<div>\n",
       "<style scoped>\n",
       "    .dataframe tbody tr th:only-of-type {\n",
       "        vertical-align: middle;\n",
       "    }\n",
       "\n",
       "    .dataframe tbody tr th {\n",
       "        vertical-align: top;\n",
       "    }\n",
       "\n",
       "    .dataframe thead th {\n",
       "        text-align: right;\n",
       "    }\n",
       "</style>\n",
       "<table border=\"1\" class=\"dataframe\">\n",
       "  <thead>\n",
       "    <tr style=\"text-align: right;\">\n",
       "      <th></th>\n",
       "      <th>column_1</th>\n",
       "      <th>column_2</th>\n",
       "      <th>column_3</th>\n",
       "      <th>column_4</th>\n",
       "      <th>column_5</th>\n",
       "      <th>column_6</th>\n",
       "    </tr>\n",
       "  </thead>\n",
       "  <tbody>\n",
       "    <tr>\n",
       "      <th>1</th>\n",
       "      <td>0.926049</td>\n",
       "      <td>0.641831</td>\n",
       "      <td>0.855052</td>\n",
       "      <td>0.112765</td>\n",
       "      <td>0.465083</td>\n",
       "      <td>0.103190</td>\n",
       "    </tr>\n",
       "    <tr>\n",
       "      <th>2</th>\n",
       "      <td>0.259578</td>\n",
       "      <td>0.757392</td>\n",
       "      <td>0.006308</td>\n",
       "      <td>0.326162</td>\n",
       "      <td>0.701057</td>\n",
       "      <td>0.477608</td>\n",
       "    </tr>\n",
       "    <tr>\n",
       "      <th>3</th>\n",
       "      <td>0.467109</td>\n",
       "      <td>0.414937</td>\n",
       "      <td>0.581706</td>\n",
       "      <td>0.322641</td>\n",
       "      <td>0.644184</td>\n",
       "      <td>0.928577</td>\n",
       "    </tr>\n",
       "    <tr>\n",
       "      <th>4</th>\n",
       "      <td>0.762660</td>\n",
       "      <td>0.494236</td>\n",
       "      <td>0.474709</td>\n",
       "      <td>0.716651</td>\n",
       "      <td>0.346095</td>\n",
       "      <td>0.881306</td>\n",
       "    </tr>\n",
       "    <tr>\n",
       "      <th>5</th>\n",
       "      <td>0.036773</td>\n",
       "      <td>0.070246</td>\n",
       "      <td>0.564491</td>\n",
       "      <td>0.245912</td>\n",
       "      <td>0.332069</td>\n",
       "      <td>0.624000</td>\n",
       "    </tr>\n",
       "    <tr>\n",
       "      <th>6</th>\n",
       "      <td>0.141363</td>\n",
       "      <td>0.813775</td>\n",
       "      <td>0.087831</td>\n",
       "      <td>0.438845</td>\n",
       "      <td>0.015803</td>\n",
       "      <td>0.552821</td>\n",
       "    </tr>\n",
       "  </tbody>\n",
       "</table>\n",
       "</div>"
      ],
      "text/plain": [
       "   column_1  column_2  column_3  column_4  column_5  column_6\n",
       "1  0.926049  0.641831  0.855052  0.112765  0.465083  0.103190\n",
       "2  0.259578  0.757392  0.006308  0.326162  0.701057  0.477608\n",
       "3  0.467109  0.414937  0.581706  0.322641  0.644184  0.928577\n",
       "4  0.762660  0.494236  0.474709  0.716651  0.346095  0.881306\n",
       "5  0.036773  0.070246  0.564491  0.245912  0.332069  0.624000\n",
       "6  0.141363  0.813775  0.087831  0.438845  0.015803  0.552821"
      ]
     },
     "execution_count": 29,
     "metadata": {},
     "output_type": "execute_result"
    }
   ],
   "source": [
    "df1"
   ]
  },
  {
   "cell_type": "code",
   "execution_count": 31,
   "id": "d4f19463-d2dc-41f9-91ea-a1f13ce618df",
   "metadata": {},
   "outputs": [
    {
     "data": {
      "text/html": [
       "<div>\n",
       "<style scoped>\n",
       "    .dataframe tbody tr th:only-of-type {\n",
       "        vertical-align: middle;\n",
       "    }\n",
       "\n",
       "    .dataframe tbody tr th {\n",
       "        vertical-align: top;\n",
       "    }\n",
       "\n",
       "    .dataframe thead th {\n",
       "        text-align: right;\n",
       "    }\n",
       "</style>\n",
       "<table border=\"1\" class=\"dataframe\">\n",
       "  <thead>\n",
       "    <tr style=\"text-align: right;\">\n",
       "      <th></th>\n",
       "      <th>column_1</th>\n",
       "      <th>column_2</th>\n",
       "      <th>column_3</th>\n",
       "      <th>column_4</th>\n",
       "      <th>column_5</th>\n",
       "      <th>column_6</th>\n",
       "    </tr>\n",
       "  </thead>\n",
       "  <tbody>\n",
       "    <tr>\n",
       "      <th>3</th>\n",
       "      <td>0.467109</td>\n",
       "      <td>0.414937</td>\n",
       "      <td>0.581706</td>\n",
       "      <td>0.322641</td>\n",
       "      <td>0.644184</td>\n",
       "      <td>0.928577</td>\n",
       "    </tr>\n",
       "    <tr>\n",
       "      <th>0</th>\n",
       "      <td>NaN</td>\n",
       "      <td>NaN</td>\n",
       "      <td>NaN</td>\n",
       "      <td>NaN</td>\n",
       "      <td>NaN</td>\n",
       "      <td>NaN</td>\n",
       "    </tr>\n",
       "    <tr>\n",
       "      <th>1</th>\n",
       "      <td>0.926049</td>\n",
       "      <td>0.641831</td>\n",
       "      <td>0.855052</td>\n",
       "      <td>0.112765</td>\n",
       "      <td>0.465083</td>\n",
       "      <td>0.103190</td>\n",
       "    </tr>\n",
       "    <tr>\n",
       "      <th>2</th>\n",
       "      <td>0.259578</td>\n",
       "      <td>0.757392</td>\n",
       "      <td>0.006308</td>\n",
       "      <td>0.326162</td>\n",
       "      <td>0.701057</td>\n",
       "      <td>0.477608</td>\n",
       "    </tr>\n",
       "  </tbody>\n",
       "</table>\n",
       "</div>"
      ],
      "text/plain": [
       "   column_1  column_2  column_3  column_4  column_5  column_6\n",
       "3  0.467109  0.414937  0.581706  0.322641  0.644184  0.928577\n",
       "0       NaN       NaN       NaN       NaN       NaN       NaN\n",
       "1  0.926049  0.641831  0.855052  0.112765  0.465083  0.103190\n",
       "2  0.259578  0.757392  0.006308  0.326162  0.701057  0.477608"
      ]
     },
     "execution_count": 31,
     "metadata": {},
     "output_type": "execute_result"
    }
   ],
   "source": [
    "new_df = df1.reindex([3,0,1,2])\n",
    "new_df"
   ]
  },
  {
   "cell_type": "code",
   "execution_count": 32,
   "id": "5ea957f9-de04-49a3-b481-1b98b8083939",
   "metadata": {},
   "outputs": [
    {
     "data": {
      "text/plain": [
       "column_1    0.259578\n",
       "column_2    0.757392\n",
       "column_3    0.006308\n",
       "column_4    0.326162\n",
       "column_5    0.701057\n",
       "column_6    0.477608\n",
       "Name: 2, dtype: float64"
      ]
     },
     "execution_count": 32,
     "metadata": {},
     "output_type": "execute_result"
    }
   ],
   "source": [
    "new_df.loc[2]"
   ]
  },
  {
   "cell_type": "code",
   "execution_count": 33,
   "id": "537b0bbe-d2d1-47ef-ae8d-38eaa62989ae",
   "metadata": {},
   "outputs": [
    {
     "data": {
      "text/plain": [
       "column_1    0.926049\n",
       "column_2    0.641831\n",
       "column_3    0.855052\n",
       "column_4    0.112765\n",
       "column_5    0.465083\n",
       "column_6    0.103190\n",
       "Name: 1, dtype: float64"
      ]
     },
     "execution_count": 33,
     "metadata": {},
     "output_type": "execute_result"
    }
   ],
   "source": [
    "new_df.iloc[2]"
   ]
  },
  {
   "cell_type": "markdown",
   "id": "c8a4eeb4-6cec-49b8-8004-5c6bef070bce",
   "metadata": {},
   "source": [
    "* From above outputs we observed that both have seperate outputs because\n",
    "* loc select data by its lable name (rows and columns).\n",
    "* iloc select data by its integer positions (rows and columns)."
   ]
  },
  {
   "cell_type": "code",
   "execution_count": null,
   "id": "a10ab329-8671-4f6d-8039-15147e68fbe9",
   "metadata": {},
   "outputs": [],
   "source": []
  },
  {
   "cell_type": "markdown",
   "id": "ec3300f8-b457-4de4-bb8d-74172cffc8cd",
   "metadata": {},
   "source": [
    "## Q4. Write a code to find the following statistical measurements for the above dataframe df1:\n",
    "## (i) mean of each and every column present in the dataframe.\n",
    "## (ii) standard deviation of column, ‘column_2’"
   ]
  },
  {
   "cell_type": "code",
   "execution_count": 5,
   "id": "14ecfe0d-5122-4551-976b-80b64fe17072",
   "metadata": {},
   "outputs": [
    {
     "name": "stdout",
     "output_type": "stream",
     "text": [
      "column_1    0.623922\n",
      "column_2    0.552339\n",
      "column_3    0.354322\n",
      "column_4    0.430490\n",
      "column_5    0.499480\n",
      "column_6    0.521242\n",
      "dtype: float64\n"
     ]
    }
   ],
   "source": [
    "mean_df1 = df1.mean()\n",
    "print(mean_df1)"
   ]
  },
  {
   "cell_type": "code",
   "execution_count": 10,
   "id": "a9bf1ab4-5a99-40bb-a433-ac33d2a6af3d",
   "metadata": {},
   "outputs": [
    {
     "name": "stdout",
     "output_type": "stream",
     "text": [
      "0.3162054255714747\n"
     ]
    }
   ],
   "source": [
    "std_dev_df1 = df1['column_2'].std()\n",
    "print(std_dev_df1)"
   ]
  },
  {
   "cell_type": "code",
   "execution_count": null,
   "id": "09a90a5d-6d48-41bd-8929-2d512d4dd7f5",
   "metadata": {},
   "outputs": [],
   "source": []
  },
  {
   "cell_type": "markdown",
   "id": "c871af5f-c542-405b-93c3-8e6fea5170d3",
   "metadata": {},
   "source": [
    "## Q5. Replace the data present in the second row of column, ‘column_2’ by a string variable then find the mean of column, column_2.\n",
    "## If you are getting errors in executing it then explain why."
   ]
  },
  {
   "cell_type": "code",
   "execution_count": 11,
   "id": "2a5a4194-d912-49f4-ae86-ff80a022dd34",
   "metadata": {},
   "outputs": [
    {
     "data": {
      "text/html": [
       "<div>\n",
       "<style scoped>\n",
       "    .dataframe tbody tr th:only-of-type {\n",
       "        vertical-align: middle;\n",
       "    }\n",
       "\n",
       "    .dataframe tbody tr th {\n",
       "        vertical-align: top;\n",
       "    }\n",
       "\n",
       "    .dataframe thead th {\n",
       "        text-align: right;\n",
       "    }\n",
       "</style>\n",
       "<table border=\"1\" class=\"dataframe\">\n",
       "  <thead>\n",
       "    <tr style=\"text-align: right;\">\n",
       "      <th></th>\n",
       "      <th>column_1</th>\n",
       "      <th>column_2</th>\n",
       "      <th>column_3</th>\n",
       "      <th>column_4</th>\n",
       "      <th>column_5</th>\n",
       "      <th>column_6</th>\n",
       "    </tr>\n",
       "  </thead>\n",
       "  <tbody>\n",
       "    <tr>\n",
       "      <th>1</th>\n",
       "      <td>0.975994</td>\n",
       "      <td>0.714532</td>\n",
       "      <td>0.882865</td>\n",
       "      <td>0.139149</td>\n",
       "      <td>0.683798</td>\n",
       "      <td>0.271008</td>\n",
       "    </tr>\n",
       "    <tr>\n",
       "      <th>2</th>\n",
       "      <td>0.052352</td>\n",
       "      <td>0.420119</td>\n",
       "      <td>0.227852</td>\n",
       "      <td>0.218317</td>\n",
       "      <td>0.530171</td>\n",
       "      <td>0.049794</td>\n",
       "    </tr>\n",
       "    <tr>\n",
       "      <th>3</th>\n",
       "      <td>0.678736</td>\n",
       "      <td>0.248519</td>\n",
       "      <td>0.172064</td>\n",
       "      <td>0.613036</td>\n",
       "      <td>0.419315</td>\n",
       "      <td>0.970642</td>\n",
       "    </tr>\n",
       "    <tr>\n",
       "      <th>4</th>\n",
       "      <td>0.384458</td>\n",
       "      <td>0.986944</td>\n",
       "      <td>0.117474</td>\n",
       "      <td>0.738773</td>\n",
       "      <td>0.710683</td>\n",
       "      <td>0.258793</td>\n",
       "    </tr>\n",
       "    <tr>\n",
       "      <th>5</th>\n",
       "      <td>0.990502</td>\n",
       "      <td>0.187328</td>\n",
       "      <td>0.396208</td>\n",
       "      <td>0.561518</td>\n",
       "      <td>0.277211</td>\n",
       "      <td>0.910358</td>\n",
       "    </tr>\n",
       "    <tr>\n",
       "      <th>6</th>\n",
       "      <td>0.661491</td>\n",
       "      <td>0.756592</td>\n",
       "      <td>0.329468</td>\n",
       "      <td>0.312145</td>\n",
       "      <td>0.375703</td>\n",
       "      <td>0.666855</td>\n",
       "    </tr>\n",
       "  </tbody>\n",
       "</table>\n",
       "</div>"
      ],
      "text/plain": [
       "   column_1  column_2  column_3  column_4  column_5  column_6\n",
       "1  0.975994  0.714532  0.882865  0.139149  0.683798  0.271008\n",
       "2  0.052352  0.420119  0.227852  0.218317  0.530171  0.049794\n",
       "3  0.678736  0.248519  0.172064  0.613036  0.419315  0.970642\n",
       "4  0.384458  0.986944  0.117474  0.738773  0.710683  0.258793\n",
       "5  0.990502  0.187328  0.396208  0.561518  0.277211  0.910358\n",
       "6  0.661491  0.756592  0.329468  0.312145  0.375703  0.666855"
      ]
     },
     "execution_count": 11,
     "metadata": {},
     "output_type": "execute_result"
    }
   ],
   "source": [
    "df1"
   ]
  },
  {
   "cell_type": "code",
   "execution_count": 14,
   "id": "ebb45d45-081b-4dbf-9037-836cf9cc73ba",
   "metadata": {},
   "outputs": [
    {
     "name": "stderr",
     "output_type": "stream",
     "text": [
      "/tmp/ipykernel_660/388900225.py:1: FutureWarning: Setting an item of incompatible dtype is deprecated and will raise an error in a future version of pandas. Value 'Sachin' has dtype incompatible with float64, please explicitly cast to a compatible dtype first.\n",
      "  df1.loc[2,['column_2']] = 'Sachin'\n"
     ]
    }
   ],
   "source": [
    "df1.loc[2,['column_2']] = 'Sachin'"
   ]
  },
  {
   "cell_type": "code",
   "execution_count": 15,
   "id": "5626f234-1935-4e0d-a2c5-1086698a04fd",
   "metadata": {},
   "outputs": [
    {
     "data": {
      "text/html": [
       "<div>\n",
       "<style scoped>\n",
       "    .dataframe tbody tr th:only-of-type {\n",
       "        vertical-align: middle;\n",
       "    }\n",
       "\n",
       "    .dataframe tbody tr th {\n",
       "        vertical-align: top;\n",
       "    }\n",
       "\n",
       "    .dataframe thead th {\n",
       "        text-align: right;\n",
       "    }\n",
       "</style>\n",
       "<table border=\"1\" class=\"dataframe\">\n",
       "  <thead>\n",
       "    <tr style=\"text-align: right;\">\n",
       "      <th></th>\n",
       "      <th>column_1</th>\n",
       "      <th>column_2</th>\n",
       "      <th>column_3</th>\n",
       "      <th>column_4</th>\n",
       "      <th>column_5</th>\n",
       "      <th>column_6</th>\n",
       "    </tr>\n",
       "  </thead>\n",
       "  <tbody>\n",
       "    <tr>\n",
       "      <th>1</th>\n",
       "      <td>0.975994</td>\n",
       "      <td>0.714532</td>\n",
       "      <td>0.882865</td>\n",
       "      <td>0.139149</td>\n",
       "      <td>0.683798</td>\n",
       "      <td>0.271008</td>\n",
       "    </tr>\n",
       "    <tr>\n",
       "      <th>2</th>\n",
       "      <td>0.052352</td>\n",
       "      <td>Sachin</td>\n",
       "      <td>0.227852</td>\n",
       "      <td>0.218317</td>\n",
       "      <td>0.530171</td>\n",
       "      <td>0.049794</td>\n",
       "    </tr>\n",
       "    <tr>\n",
       "      <th>3</th>\n",
       "      <td>0.678736</td>\n",
       "      <td>0.248519</td>\n",
       "      <td>0.172064</td>\n",
       "      <td>0.613036</td>\n",
       "      <td>0.419315</td>\n",
       "      <td>0.970642</td>\n",
       "    </tr>\n",
       "    <tr>\n",
       "      <th>4</th>\n",
       "      <td>0.384458</td>\n",
       "      <td>0.986944</td>\n",
       "      <td>0.117474</td>\n",
       "      <td>0.738773</td>\n",
       "      <td>0.710683</td>\n",
       "      <td>0.258793</td>\n",
       "    </tr>\n",
       "    <tr>\n",
       "      <th>5</th>\n",
       "      <td>0.990502</td>\n",
       "      <td>0.187328</td>\n",
       "      <td>0.396208</td>\n",
       "      <td>0.561518</td>\n",
       "      <td>0.277211</td>\n",
       "      <td>0.910358</td>\n",
       "    </tr>\n",
       "    <tr>\n",
       "      <th>6</th>\n",
       "      <td>0.661491</td>\n",
       "      <td>0.756592</td>\n",
       "      <td>0.329468</td>\n",
       "      <td>0.312145</td>\n",
       "      <td>0.375703</td>\n",
       "      <td>0.666855</td>\n",
       "    </tr>\n",
       "  </tbody>\n",
       "</table>\n",
       "</div>"
      ],
      "text/plain": [
       "   column_1  column_2  column_3  column_4  column_5  column_6\n",
       "1  0.975994  0.714532  0.882865  0.139149  0.683798  0.271008\n",
       "2  0.052352    Sachin  0.227852  0.218317  0.530171  0.049794\n",
       "3  0.678736  0.248519  0.172064  0.613036  0.419315  0.970642\n",
       "4  0.384458  0.986944  0.117474  0.738773  0.710683  0.258793\n",
       "5  0.990502  0.187328  0.396208  0.561518  0.277211  0.910358\n",
       "6  0.661491  0.756592  0.329468  0.312145  0.375703  0.666855"
      ]
     },
     "execution_count": 15,
     "metadata": {},
     "output_type": "execute_result"
    }
   ],
   "source": [
    "df1"
   ]
  },
  {
   "cell_type": "markdown",
   "id": "148abae7-6cd1-47b8-b2a3-22c472780de6",
   "metadata": {},
   "source": [
    "# mean_col2 = df1['column_2'].mean()\n",
    "# while executing above code we get error because column have 'String value' and mean is not calculated of 'String values'. "
   ]
  },
  {
   "cell_type": "code",
   "execution_count": null,
   "id": "c7d43cda-26cc-46fe-a76e-ca2c6183d55e",
   "metadata": {},
   "outputs": [],
   "source": []
  },
  {
   "cell_type": "markdown",
   "id": "cfd6c7d3-951c-4ccb-b188-fbe17b97a5ad",
   "metadata": {},
   "source": [
    "## Q6. What do you understand about the windows function in pandas and list the types of windows functions?"
   ]
  },
  {
   "attachments": {
    "87e274d4-d7d1-41ac-a3da-2907b92840c4.png": {
     "image/png": "[encoded data removed]"
    }
   },
   "cell_type": "markdown",
   "id": "fdb6cb30-0bf4-48aa-b3a7-00f78ab067cc",
   "metadata": {},
   "source": [
    "* The window functions in Pandas are used to perform some sort of calculations across a set of rows that are interrelated with the current row. As we know, we have aggregate functions in SQL, which help us to perform mathematical calculations among the columns of a table. Similarly, windows functions help us to perform aggregated calculations across various partitions or cross-sections of the data.\n",
    "* Windows function in Pandas can be broadly divided into three categories, namely- Aggregate, Ranking, and Value.\n",
    "\n",
    "![{64532C66-BD1D-42EA-8E98-EB8A0355F0BF}.png](attachment:87e274d4-d7d1-41ac-a3da-2907b92840c4.png)\n",
    "\n",
    "* The Windows functions help us to perform the aggregated calculations across various partitions or cross-sections of the data.\n",
    "* A window is a value (in terms of rows) that tells us the distance between our current row and the row which is to be used for calculations."
   ]
  },
  {
   "cell_type": "code",
   "execution_count": null,
   "id": "57c15029-8810-4865-aa67-04307242ff9e",
   "metadata": {},
   "outputs": [],
   "source": []
  },
  {
   "cell_type": "markdown",
   "id": "9155dd34-33f4-4688-9b64-70c8c2468e41",
   "metadata": {},
   "source": [
    "## Q7. Write a code to print only the current month and year at the time of answering this question."
   ]
  },
  {
   "cell_type": "code",
   "execution_count": 13,
   "id": "2bafb4d3-b696-4aa6-ad6b-706d6976162e",
   "metadata": {},
   "outputs": [
    {
     "data": {
      "text/plain": [
       "'April 2025'"
      ]
     },
     "execution_count": 13,
     "metadata": {},
     "output_type": "execute_result"
    }
   ],
   "source": [
    "date_time = pd.Timestamp.now()\n",
    "month_yr = date_time.strftime(\"%B %Y\")\n",
    "month_yr\n"
   ]
  },
  {
   "cell_type": "code",
   "execution_count": 10,
   "id": "ceec35f6-0075-454c-9d27-d54999922a5f",
   "metadata": {},
   "outputs": [
    {
     "name": "stdout",
     "output_type": "stream",
     "text": [
      "2025-04-28 00:00:00\n"
     ]
    }
   ],
   "source": [
    "today = pd.to_datetime('today').normalize()\n",
    "\n",
    "print(today)"
   ]
  },
  {
   "cell_type": "code",
   "execution_count": 12,
   "id": "67f66dcf-3b7f-4329-8fb9-9491e8c44d9d",
   "metadata": {},
   "outputs": [
    {
     "name": "stdout",
     "output_type": "stream",
     "text": [
      "Apr 25\n"
     ]
    }
   ],
   "source": [
    "current_date = pd.Timestamp.now()\n",
    "month_year_str = current_date.strftime(\"%b %y\")\n",
    "print(month_year_str)"
   ]
  },
  {
   "cell_type": "code",
   "execution_count": null,
   "id": "87b9acb7-368e-4745-ba64-bf0d676ad3fa",
   "metadata": {},
   "outputs": [],
   "source": []
  },
  {
   "cell_type": "markdown",
   "id": "49167829-8282-44e6-8000-810cf8f39b40",
   "metadata": {},
   "source": [
    "## Q8. Write a Python program that takes in two dates as input (in the format YYYY-MM-DD) and calculates the difference between them in days, hours, and minutes using Pandas time delta. The program should prompt the user to enter the dates and display the result."
   ]
  },
  {
   "cell_type": "code",
   "execution_count": 2,
   "id": "33967505-612f-4597-8e87-9a94cc549c21",
   "metadata": {},
   "outputs": [],
   "source": [
    "timeA = pd.Timestamp(\"2024-04-25\")\n",
    "timeB = pd.Timestamp(\"2024-04-30\")"
   ]
  },
  {
   "cell_type": "code",
   "execution_count": 4,
   "id": "275e1c25-1f1b-4809-912f-6d8ecfe4423a",
   "metadata": {},
   "outputs": [
    {
     "data": {
      "text/plain": [
       "Timedelta('-5 days +00:00:00')"
      ]
     },
     "execution_count": 4,
     "metadata": {},
     "output_type": "execute_result"
    }
   ],
   "source": [
    "timeA - timeB"
   ]
  },
  {
   "cell_type": "code",
   "execution_count": 5,
   "id": "bdfeae0d-67c2-47f0-ae6c-8dda7a5b1439",
   "metadata": {},
   "outputs": [],
   "source": [
    "timeA = pd.Timestamp(\"2024-04-25 04:33:45 PM\")\n",
    "timeB = pd.Timestamp(\"2024-04-30 02:19:33 AM\")"
   ]
  },
  {
   "cell_type": "code",
   "execution_count": 6,
   "id": "49a419cc-fedf-4f91-8e71-62d3d6c66d61",
   "metadata": {},
   "outputs": [
    {
     "data": {
      "text/plain": [
       "Timedelta('4 days 09:45:48')"
      ]
     },
     "execution_count": 6,
     "metadata": {},
     "output_type": "execute_result"
    }
   ],
   "source": [
    "timeB-timeA"
   ]
  },
  {
   "cell_type": "code",
   "execution_count": null,
   "id": "4cf934c1-15f8-407e-a7e8-ac70970c5b31",
   "metadata": {},
   "outputs": [],
   "source": []
  },
  {
   "cell_type": "markdown",
   "id": "e243d686-86bb-40e7-98cf-56af10795f47",
   "metadata": {},
   "source": [
    "## Q9. Write a Python program that reads a CSV file containing categorical data and converts a specified column to a categorical data type. The program should prompt the user to enter the file path, column name, and category order, and then display the sorted data."
   ]
  },
  {
   "cell_type": "code",
   "execution_count": 7,
   "id": "6a463d90-2dd2-4bd3-bad8-5a71585c19a1",
   "metadata": {},
   "outputs": [],
   "source": [
    "df = pd.read_csv(\"services.csv\")\n",
    "df.head()\n",
    "cat = pd.Categorical(df[\"name\"])"
   ]
  },
  {
   "cell_type": "code",
   "execution_count": 8,
   "id": "262d32f4-d61e-4c28-8ce2-bc3d079fa43b",
   "metadata": {},
   "outputs": [
    {
     "data": {
      "text/plain": [
       "['Fair Oaks Adult Activity Center', 'Second Career Employment Program', 'Senior Peer Counseling', 'Family Visitation Center', 'Economic Self-Sufficiency Program', ..., 'San Mateo Free Medical Clinic', 'Service with blank fields', 'Service for Admin Test Location', 'Passport Photos', 'Example Service Name']\n",
       "Length: 23\n",
       "Categories (23, object): ['Adult Rehabilitation Center', 'Economic Self-Sufficiency Program', 'Example Service Name', 'Fair Oaks Adult Activity Center', ..., 'Service for Admin Test Location', 'Service with blank fields', 'South San Francisco Citadel Corps', 'Sunnyvale Corps']"
      ]
     },
     "execution_count": 8,
     "metadata": {},
     "output_type": "execute_result"
    }
   ],
   "source": [
    "cat"
   ]
  },
  {
   "cell_type": "code",
   "execution_count": 10,
   "id": "e4363a5d-5353-45e8-9263-6230bb4dc68e",
   "metadata": {},
   "outputs": [
    {
     "data": {
      "text/plain": [
       "0          Fair Oaks Adult Activity Center\n",
       "1         Second Career Employment Program\n",
       "2                   Senior Peer Counseling\n",
       "3                 Family Visitation Center\n",
       "4        Economic Self-Sufficiency Program\n",
       "5     Little House Recreational Activities\n",
       "6         Rosener House Adult Day Services\n",
       "7           Meals on Wheels - South County\n",
       "8                         Fair Oaks Branch\n",
       "9                             Main Library\n",
       "10                         Schaberg Branch\n",
       "11                            Project Read\n",
       "12                   Redwood Shores Branch\n",
       "13                      Redwood City Corps\n",
       "14             Adult Rehabilitation Center\n",
       "15                         Sunnyvale Corps\n",
       "16       South San Francisco Citadel Corps\n",
       "17                           Project Smile\n",
       "18           San Mateo Free Medical Clinic\n",
       "19               Service with blank fields\n",
       "20         Service for Admin Test Location\n",
       "21                         Passport Photos\n",
       "22                    Example Service Name\n",
       "Name: name, dtype: object"
      ]
     },
     "execution_count": 10,
     "metadata": {},
     "output_type": "execute_result"
    }
   ],
   "source": [
    "df.name"
   ]
  },
  {
   "cell_type": "code",
   "execution_count": null,
   "id": "2ddb42e4-430d-4fc8-a517-65965ee2d2bb",
   "metadata": {},
   "outputs": [],
   "source": []
  },
  {
   "cell_type": "markdown",
   "id": "5a099a43-0961-49d3-8bcd-7351e1ce856d",
   "metadata": {},
   "source": [
    "## Q10. Write a Python program that reads a CSV file containing sales data for different products and visualizes the data using a stacked bar chart to show the sales of each product category over time. The program should prompt the user to enter the file path and display the chart."
   ]
  },
  {
   "cell_type": "code",
   "execution_count": 7,
   "id": "3ac7da44-db78-4ec1-9659-1d9c326040af",
   "metadata": {},
   "outputs": [
    {
     "data": {
      "text/html": [
       "<div>\n",
       "<style scoped>\n",
       "    .dataframe tbody tr th:only-of-type {\n",
       "        vertical-align: middle;\n",
       "    }\n",
       "\n",
       "    .dataframe tbody tr th {\n",
       "        vertical-align: top;\n",
       "    }\n",
       "\n",
       "    .dataframe thead th {\n",
       "        text-align: right;\n",
       "    }\n",
       "</style>\n",
       "<table border=\"1\" class=\"dataframe\">\n",
       "  <thead>\n",
       "    <tr style=\"text-align: right;\">\n",
       "      <th></th>\n",
       "      <th>Year</th>\n",
       "      <th>A</th>\n",
       "      <th>B</th>\n",
       "      <th>C</th>\n",
       "      <th>D</th>\n",
       "    </tr>\n",
       "  </thead>\n",
       "  <tbody>\n",
       "    <tr>\n",
       "      <th>0</th>\n",
       "      <td>2022</td>\n",
       "      <td>10</td>\n",
       "      <td>20</td>\n",
       "      <td>10</td>\n",
       "      <td>26</td>\n",
       "    </tr>\n",
       "    <tr>\n",
       "      <th>1</th>\n",
       "      <td>2023</td>\n",
       "      <td>20</td>\n",
       "      <td>25</td>\n",
       "      <td>15</td>\n",
       "      <td>21</td>\n",
       "    </tr>\n",
       "    <tr>\n",
       "      <th>2</th>\n",
       "      <td>2024</td>\n",
       "      <td>12</td>\n",
       "      <td>15</td>\n",
       "      <td>19</td>\n",
       "      <td>6</td>\n",
       "    </tr>\n",
       "    <tr>\n",
       "      <th>3</th>\n",
       "      <td>2025</td>\n",
       "      <td>10</td>\n",
       "      <td>18</td>\n",
       "      <td>11</td>\n",
       "      <td>19</td>\n",
       "    </tr>\n",
       "  </tbody>\n",
       "</table>\n",
       "</div>"
      ],
      "text/plain": [
       "   Year   A   B   C   D\n",
       "0  2022  10  20  10  26\n",
       "1  2023  20  25  15  21\n",
       "2  2024  12  15  19   6\n",
       "3  2025  10  18  11  19"
      ]
     },
     "execution_count": 7,
     "metadata": {},
     "output_type": "execute_result"
    }
   ],
   "source": [
    "import matplotlib.pyplot as plt\n",
    "df = pd.read_csv(\"Sales Data.csv\")\n",
    "df.head()"
   ]
  },
  {
   "cell_type": "code",
   "execution_count": 8,
   "id": "c45c44a5-fa7c-4b38-a917-23c5d8cf6360",
   "metadata": {},
   "outputs": [
    {
     "data": {
      "image/png": "[encoded data removed]",
      "text/plain": [
       "<Figure size 640x480 with 1 Axes>"
      ]
     },
     "metadata": {},
     "output_type": "display_data"
    }
   ],
   "source": [
    "df.plot(x = \"Year\", kind = \"bar\", stacked = True, title = \"Stacked Bar Graph\")\n",
    "plt.show()"
   ]
  },
  {
   "cell_type": "code",
   "execution_count": null,
   "id": "83245340-e225-4793-a637-d7c030cb0086",
   "metadata": {},
   "outputs": [],
   "source": []
  },
  {
   "cell_type": "markdown",
   "id": "4ef7c2ff-2979-4591-9aa0-624ae566ee43",
   "metadata": {},
   "source": [
    "## Q11. You are given a CSV file containing student data that includes the student ID and their test score. Write a Python program that reads the CSV file, calculates the mean, median, and mode of the test scores, and displays the results in a table."
   ]
  },
  {
   "cell_type": "code",
   "execution_count": 10,
   "id": "88482a65-ca21-4bec-b143-85681c8b8928",
   "metadata": {},
   "outputs": [
    {
     "data": {
      "text/html": [
       "<div>\n",
       "<style scoped>\n",
       "    .dataframe tbody tr th:only-of-type {\n",
       "        vertical-align: middle;\n",
       "    }\n",
       "\n",
       "    .dataframe tbody tr th {\n",
       "        vertical-align: top;\n",
       "    }\n",
       "\n",
       "    .dataframe thead th {\n",
       "        text-align: right;\n",
       "    }\n",
       "</style>\n",
       "<table border=\"1\" class=\"dataframe\">\n",
       "  <thead>\n",
       "    <tr style=\"text-align: right;\">\n",
       "      <th></th>\n",
       "      <th>Student ID</th>\n",
       "      <th>Student ID.1</th>\n",
       "    </tr>\n",
       "  </thead>\n",
       "  <tbody>\n",
       "    <tr>\n",
       "      <th>0</th>\n",
       "      <td>1</td>\n",
       "      <td>85</td>\n",
       "    </tr>\n",
       "    <tr>\n",
       "      <th>1</th>\n",
       "      <td>2</td>\n",
       "      <td>90</td>\n",
       "    </tr>\n",
       "    <tr>\n",
       "      <th>2</th>\n",
       "      <td>3</td>\n",
       "      <td>80</td>\n",
       "    </tr>\n",
       "    <tr>\n",
       "      <th>3</th>\n",
       "      <td>4</td>\n",
       "      <td>75</td>\n",
       "    </tr>\n",
       "    <tr>\n",
       "      <th>4</th>\n",
       "      <td>5</td>\n",
       "      <td>85</td>\n",
       "    </tr>\n",
       "    <tr>\n",
       "      <th>5</th>\n",
       "      <td>6</td>\n",
       "      <td>82</td>\n",
       "    </tr>\n",
       "    <tr>\n",
       "      <th>6</th>\n",
       "      <td>7</td>\n",
       "      <td>78</td>\n",
       "    </tr>\n",
       "    <tr>\n",
       "      <th>7</th>\n",
       "      <td>8</td>\n",
       "      <td>85</td>\n",
       "    </tr>\n",
       "    <tr>\n",
       "      <th>8</th>\n",
       "      <td>9</td>\n",
       "      <td>90</td>\n",
       "    </tr>\n",
       "    <tr>\n",
       "      <th>9</th>\n",
       "      <td>10</td>\n",
       "      <td>85</td>\n",
       "    </tr>\n",
       "  </tbody>\n",
       "</table>\n",
       "</div>"
      ],
      "text/plain": [
       "   Student ID  Student ID.1\n",
       "0           1            85\n",
       "1           2            90\n",
       "2           3            80\n",
       "3           4            75\n",
       "4           5            85\n",
       "5           6            82\n",
       "6           7            78\n",
       "7           8            85\n",
       "8           9            90\n",
       "9          10            85"
      ]
     },
     "execution_count": 10,
     "metadata": {},
     "output_type": "execute_result"
    }
   ],
   "source": [
    "df = pd.read_csv(\"student_data.csv\")\n",
    "df"
   ]
  },
  {
   "cell_type": "code",
   "execution_count": 11,
   "id": "29a4351c-2158-4cac-b34e-c734805e5f7c",
   "metadata": {},
   "outputs": [
    {
     "name": "stdout",
     "output_type": "stream",
     "text": [
      "   Student ID  Test Score\n",
      "0           1          85\n",
      "1           2          90\n",
      "2           3          80\n",
      "3           4          75\n",
      "4           5          85\n",
      "5           6          82\n",
      "6           7          78\n",
      "7           8          85\n",
      "8           9          90\n",
      "9          10          85\n"
     ]
    }
   ],
   "source": [
    "df.rename(columns = {\"Student ID.1\" : \"Test Score\"}, inplace = True)\n",
    "print(df)"
   ]
  },
  {
   "cell_type": "code",
   "execution_count": 35,
   "id": "61eb338e-67eb-4ce9-ba80-5b4881bb24a0",
   "metadata": {},
   "outputs": [
    {
     "name": "stdout",
     "output_type": "stream",
     "text": [
      "83.5\n",
      "85.0\n",
      "0    85\n",
      "Name: Test Score, dtype: int64\n"
     ]
    }
   ],
   "source": [
    "Score_mean = df[\"Test Score\"].mean()\n",
    "Score_median = df[\"Test Score\"].median()\n",
    "Score_mode = df[\"Test Score\"].mode()\n",
    "print(Score_mean)\n",
    "print(Score_median)\n",
    "print(Score_mode)\n"
   ]
  },
  {
   "cell_type": "code",
   "execution_count": 4,
   "id": "ecf06de3-cd9c-45d4-a0de-ee5d36ac1232",
   "metadata": {},
   "outputs": [
    {
     "data": {
      "text/html": [
       "<div>\n",
       "<style scoped>\n",
       "    .dataframe tbody tr th:only-of-type {\n",
       "        vertical-align: middle;\n",
       "    }\n",
       "\n",
       "    .dataframe tbody tr th {\n",
       "        vertical-align: top;\n",
       "    }\n",
       "\n",
       "    .dataframe thead th {\n",
       "        text-align: right;\n",
       "    }\n",
       "</style>\n",
       "<table border=\"1\" class=\"dataframe\">\n",
       "  <thead>\n",
       "    <tr style=\"text-align: right;\">\n",
       "      <th></th>\n",
       "      <th>Statistics</th>\n",
       "      <th>Value</th>\n",
       "    </tr>\n",
       "  </thead>\n",
       "  <tbody>\n",
       "    <tr>\n",
       "      <th>0</th>\n",
       "      <td>Mean</td>\n",
       "      <td>83.5</td>\n",
       "    </tr>\n",
       "    <tr>\n",
       "      <th>1</th>\n",
       "      <td>Median</td>\n",
       "      <td>85</td>\n",
       "    </tr>\n",
       "    <tr>\n",
       "      <th>2</th>\n",
       "      <td>Mode</td>\n",
       "      <td>0 , 85</td>\n",
       "    </tr>\n",
       "  </tbody>\n",
       "</table>\n",
       "</div>"
      ],
      "text/plain": [
       "  Statistics   Value\n",
       "0       Mean    83.5\n",
       "1     Median      85\n",
       "2       Mode  0 , 85"
      ]
     },
     "execution_count": 4,
     "metadata": {},
     "output_type": "execute_result"
    }
   ],
   "source": [
    "df1 = pd.DataFrame({'Statistics' : ['Mean','Median','Mode'],\n",
    "                    'Value' : ['83.5','85','0 , 85']})\n",
    "df1"
   ]
  },
  {
   "cell_type": "code",
   "execution_count": null,
   "id": "d75507e6-455a-4cb9-81f7-b4573caf0e6c",
   "metadata": {},
   "outputs": [],
   "source": [
    "\n"
   ]
  },
  {
   "cell_type": "code",
   "execution_count": null,
   "id": "982444d5-25f6-4740-963d-436ae81bf453",
   "metadata": {},
   "outputs": [],
   "source": []
  },
  {
   "cell_type": "code",
   "execution_count": null,
   "id": "a3aa4ff9-8d4e-4a3d-b035-d4ff98f0fbcb",
   "metadata": {},
   "outputs": [],
   "source": []
  },
  {
   "cell_type": "code",
   "execution_count": null,
   "id": "cb6f5543-e809-49a6-a9c9-6f574aa00680",
   "metadata": {},
   "outputs": [],
   "source": []
  }
 ],
 "metadata": {
  "kernelspec": {
   "display_name": "Python 3 (ipykernel)",
   "language": "python",
   "name": "python3"
  },
  "language_info": {
   "codemirror_mode": {
    "name": "ipython",
    "version": 3
   },
   "file_extension": ".py",
   "mimetype": "text/x-python",
   "name": "python",
   "nbconvert_exporter": "python",
   "pygments_lexer": "ipython3",
   "version": "3.12.1"
  }
 },
 "nbformat": 4,
 "nbformat_minor": 5
}
